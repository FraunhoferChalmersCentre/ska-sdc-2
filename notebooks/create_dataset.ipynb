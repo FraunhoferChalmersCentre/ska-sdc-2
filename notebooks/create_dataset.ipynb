{
 "cells": [
  {
   "cell_type": "code",
   "execution_count": null,
   "metadata": {},
   "outputs": [],
   "source": [
    "import os\n",
    "import sys\n",
    "module_path = os.path.abspath(os.path.join('..'))\n",
    "if module_path not in sys.path:\n",
    "    sys.path.append(module_path)"
   ]
  },
  {
   "cell_type": "code",
   "execution_count": null,
   "metadata": {},
   "outputs": [],
   "source": [
    "size = 'dev_s'\n",
    "prob = 50\n",
    "splitsize = 60"
   ]
  },
  {
   "cell_type": "code",
   "execution_count": null,
   "metadata": {},
   "outputs": [],
   "source": [
    "import pandas as pd\n",
    "\n",
    "from utils import filename\n",
    "from utils.data.segmentmap import create_from_files\n",
    "\n",
    "\n",
    "segmentmap, allocation_dict = create_from_files(size, regenerate=False)\n",
    "df = pd.read_csv(filename.data.true(size), sep=' ')\n",
    "fname = filename.data.sky(size)"
   ]
  },
  {
   "cell_type": "code",
   "execution_count": null,
   "metadata": {},
   "outputs": [],
   "source": [
    "from utils.data.generating import split_by_size\n",
    "from definitions import config\n",
    "\n",
    "spatial = config['segmentation']['cube_size']['spatial']\n",
    "freq = config['segmentation']['cube_size']['freq']\n",
    "cube_dim = (spatial, spatial, freq)\n",
    "empty_cube_dim = tuple([c * 2 for c in cube_dim])\n",
    "\n",
    "galax_prob = prob / 100\n",
    "\n",
    "splitted_datasets = split_by_size(df, fname, segmentmap, allocation_dict, galax_prob, cube_dim, empty_cube_dim, n_memory_batches=50, splitsize=splitsize)"
   ]
  },
  {
   "cell_type": "code",
   "execution_count": null,
   "metadata": {},
   "outputs": [],
   "source": [
    "import torch\n",
    "from tqdm.auto import tqdm\n",
    "import string\n",
    "import random\n",
    "import glob\n",
    "\n",
    "directory = filename.processed.dataset(size, prob)\n",
    "\n",
    "for f in glob.glob('{}/*'.format(directory)):\n",
    "    os.remove(f)\n",
    "\n",
    "for i, dataset_split in enumerate(tqdm(splitted_datasets)):\n",
    "    name = ''.join(random.choice(string.ascii_letters) for i in range(20))\n",
    "    torch.save(dataset_split, directory + '/{}.pt'.format(name))"
   ]
  }
 ],
 "metadata": {
  "kernelspec": {
   "display_name": "Python 3",
   "language": "python",
   "name": "python3"
  },
  "language_info": {
   "codemirror_mode": {
    "name": "ipython",
    "version": 3
   },
   "file_extension": ".py",
   "mimetype": "text/x-python",
   "name": "python",
   "nbconvert_exporter": "python",
   "pygments_lexer": "ipython3",
   "version": "3.8.8"
  }
 },
 "nbformat": 4,
 "nbformat_minor": 4
}
