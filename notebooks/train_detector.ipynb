{
 "cells": [
  {
   "cell_type": "markdown",
   "metadata": {},
   "source": [
    "Add project root to path"
   ]
  },
  {
   "cell_type": "code",
   "execution_count": null,
   "metadata": {},
   "outputs": [],
   "source": [
    "import os\n",
    "import sys\n",
    "module_path = os.path.abspath(os.path.join('..'))\n",
    "if module_path not in sys.path:\n",
    "    sys.path.append(module_path)"
   ]
  },
  {
   "cell_type": "markdown",
   "metadata": {},
   "source": [
    "Load raw data"
   ]
  },
  {
   "cell_type": "code",
   "execution_count": null,
   "metadata": {},
   "outputs": [],
   "source": [
    "from astropy.io import fits\n",
    "import pandas as pd\n",
    "from astropy.wcs import WCS\n",
    "\n",
    "from utils.data.segmentmap import create_from_files\n",
    "from utils import filename\n",
    "\n",
    "name = 'dev_s'\n",
    "segmentmap = create_from_files(name)\n",
    "hi_data = fits.getdata(filename.data.sky(name)).T\n",
    "header = fits.getheader(filename.data.sky(name))\n",
    "df = pd.read_csv(filename.data.true(name), sep=' ')"
   ]
  },
  {
   "cell_type": "markdown",
   "metadata": {},
   "source": [
    "Power transform"
   ]
  },
  {
   "cell_type": "code",
   "execution_count": null,
   "metadata": {},
   "outputs": [],
   "source": [
    "import numpy as np\n",
    "a = 100\n",
    "for i in range(hi_data.shape[-1]):\n",
    "    hi_data[:, :, i] = (hi_data[:, :, i] - hi_data[:, :, i].min()) / (\n",
    "            np.percentile(hi_data[:, :, i], 99.9) - hi_data[:, :, i].min())\n",
    "    hi_data[:, :, i] = (np.power(a, hi_data[:, :, i]) - 1) / a"
   ]
  },
  {
   "cell_type": "markdown",
   "metadata": {},
   "source": [
    "Create dataset objects"
   ]
  },
  {
   "cell_type": "code",
   "execution_count": null,
   "metadata": {},
   "outputs": [],
   "source": [
    "from utils.data.generating import create_datacube_set_dict\n",
    "import numpy as np\n",
    "\n",
    "cube_dim = np.array([32,32,32])\n",
    "empty_cube_dim = np.array([64,64,64])\n",
    "dataset = create_datacube_set_dict(df, hi_data, segmentmap, WCS(header), header, .5, cube_dim, empty_cube_dim)"
   ]
  },
  {
   "cell_type": "markdown",
   "metadata": {},
   "source": [
    "Create dataloader, split to train & test"
   ]
  },
  {
   "cell_type": "code",
   "execution_count": null,
   "metadata": {},
   "outputs": [],
   "source": [
    "from utils.data import splitting\n",
    "\n",
    "train, test = splitting.splitted_loaders(dataset, .8)"
   ]
  },
  {
   "cell_type": "markdown",
   "metadata": {},
   "source": [
    "Load pretrained 2D model"
   ]
  },
  {
   "cell_type": "code",
   "execution_count": null,
   "metadata": {},
   "outputs": [],
   "source": [
    "import segmentation_models_pytorch as smp\n",
    "\n",
    "model = smp.Unet(encoder_name='resnet18', in_channels=1, classes=1)"
   ]
  },
  {
   "cell_type": "markdown",
   "metadata": {},
   "source": [
    "Convert pretrained 2D model to 3D"
   ]
  },
  {
   "cell_type": "code",
   "execution_count": null,
   "metadata": {},
   "outputs": [],
   "source": [
    "import torch\n",
    "from models.convert2Dto3D import Conv3dConverter\n",
    "\n",
    "Conv3dConverter(model, -1, torch.ones(1, 1, 32, 32, 32))"
   ]
  },
  {
   "cell_type": "markdown",
   "metadata": {},
   "source": [
    "Create Lightning objects"
   ]
  },
  {
   "cell_type": "code",
   "execution_count": null,
   "metadata": {},
   "outputs": [],
   "source": [
    "import pytorch_lightning as pl\n",
    "from pytorch_lightning.loggers.tensorboard import TensorBoardLogger\n",
    "from pytorch_toolbelt.losses import BinaryLovaszLoss\n",
    "from pytorch_lightning.loggers import TensorBoardLogger\n",
    "from datetime import datetime\n",
    "\n",
    "from models.segmentation import Segmenter\n",
    "\n",
    "version = datetime.now().strftime(\"%Y/%m/%d %H:%M:%S\")\n",
    "logger = TensorBoardLogger(\"tb_logs\", name=\"segmenter\", version=version)\n",
    "segmenter = Segmenter(model, BinaryLovaszLoss(), train, test, logger)\n",
    "\n",
    "trainer = pl.Trainer(max_epochs=500, gpus=1, logger=logger)"
   ]
  },
  {
   "cell_type": "markdown",
   "metadata": {},
   "source": [
    "Train!"
   ]
  },
  {
   "cell_type": "code",
   "execution_count": null,
   "metadata": {},
   "outputs": [],
   "source": [
    "trainer.fit(segmenter)"
   ]
  }
 ],
 "metadata": {
  "kernelspec": {
   "display_name": "env",
   "language": "python",
   "name": "env"
  },
  "language_info": {
   "codemirror_mode": {
    "name": "ipython",
    "version": 3
   },
   "file_extension": ".py",
   "mimetype": "text/x-python",
   "name": "python",
   "nbconvert_exporter": "python",
   "pygments_lexer": "ipython3",
   "version": "3.8.5"
  }
 },
 "nbformat": 4,
 "nbformat_minor": 5
}
